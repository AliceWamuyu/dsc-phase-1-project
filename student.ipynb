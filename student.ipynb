{
 "cells": [
  {
   "cell_type": "markdown",
   "metadata": {},
   "source": [
    "## Final Project Submission\n",
    "\n",
    "* Student name: Alice Wanjiru Wamuyu \n",
    "* Student pace: part time\n",
    "* Scheduled project review date/time: 20/10/2022\n",
    "* Instructor name: Rose Delilah\n",
    "* Blog post URL: \n"
   ]
  },
  {
   "cell_type": "markdown",
   "metadata": {},
   "source": [
    "# Microsoft Movie Studio Analysis"
   ]
  },
  {
   "cell_type": "markdown",
   "metadata": {},
   "source": [
    "## Overview\n",
    "This project analyzes Microsoft needs of setting up a movie studio. Microsoft sells computing devices, cloud systems and services, software, and other products to consumers and businesses and would like to venture into movie production. Exploratory Data Analysis will generate insights for Microsoft on What movies to produce."
   ]
  },
  {
   "cell_type": "markdown",
   "metadata": {},
   "source": [
    "## Business Problem\n",
    "Microsoft sees all the big companies creating original video content and they want to get in on the fun. They have decided to create a new movie studio, but they don’t know anything about creating movies. I will be exploring what types of films are currently doing the best at the box office and translating my findings into actionable insights that the head of Microsoft's new movie studio can use to help decide what type of films to create."
   ]
  },
  {
   "cell_type": "markdown",
   "metadata": {},
   "source": [
    "## Data Understanding\n",
    "For this project, I used the imdb.title.basics, imdb.title.ratings and bom.movie_gross datasets. This datasets contain information on movie genres, The ratings on each movie, The studios they were created, The number of Votes for each movie, domestic gross, foreign gross and the running minutes of the movies.\n",
    "My target variables are genres, Number of votes, Domestic Gross and the running minutes."
   ]
  },
  {
   "cell_type": "code",
   "execution_count": 1,
   "metadata": {},
   "outputs": [],
   "source": [
    "# Your code here - remember to use markdown cells for comments as well!\n",
    "import pandas as pd\n",
    "import numpy as np\n",
    "import matplotlib.pyplot as plt\n",
    "import seaborn as sns\n",
    "\n",
    "%matplotlib inline"
   ]
  },
  {
   "cell_type": "markdown",
   "metadata": {},
   "source": [
    "## Data Preparation\n",
    "### Importing and cleaning data"
   ]
  },
  {
   "cell_type": "code",
   "execution_count": 2,
   "metadata": {
    "scrolled": true
   },
   "outputs": [
    {
     "data": {
      "text/html": [
       "<div>\n",
       "<style scoped>\n",
       "    .dataframe tbody tr th:only-of-type {\n",
       "        vertical-align: middle;\n",
       "    }\n",
       "\n",
       "    .dataframe tbody tr th {\n",
       "        vertical-align: top;\n",
       "    }\n",
       "\n",
       "    .dataframe thead th {\n",
       "        text-align: right;\n",
       "    }\n",
       "</style>\n",
       "<table border=\"1\" class=\"dataframe\">\n",
       "  <thead>\n",
       "    <tr style=\"text-align: right;\">\n",
       "      <th></th>\n",
       "      <th>title</th>\n",
       "      <th>studio</th>\n",
       "      <th>domestic_gross</th>\n",
       "      <th>foreign_gross</th>\n",
       "      <th>year</th>\n",
       "    </tr>\n",
       "  </thead>\n",
       "  <tbody>\n",
       "    <tr>\n",
       "      <th>0</th>\n",
       "      <td>Toy Story 3</td>\n",
       "      <td>BV</td>\n",
       "      <td>415000000.0</td>\n",
       "      <td>652000000</td>\n",
       "      <td>2010</td>\n",
       "    </tr>\n",
       "    <tr>\n",
       "      <th>1</th>\n",
       "      <td>Alice in Wonderland (2010)</td>\n",
       "      <td>BV</td>\n",
       "      <td>334200000.0</td>\n",
       "      <td>691300000</td>\n",
       "      <td>2010</td>\n",
       "    </tr>\n",
       "    <tr>\n",
       "      <th>2</th>\n",
       "      <td>Harry Potter and the Deathly Hallows Part 1</td>\n",
       "      <td>WB</td>\n",
       "      <td>296000000.0</td>\n",
       "      <td>664300000</td>\n",
       "      <td>2010</td>\n",
       "    </tr>\n",
       "    <tr>\n",
       "      <th>3</th>\n",
       "      <td>Inception</td>\n",
       "      <td>WB</td>\n",
       "      <td>292600000.0</td>\n",
       "      <td>535700000</td>\n",
       "      <td>2010</td>\n",
       "    </tr>\n",
       "    <tr>\n",
       "      <th>4</th>\n",
       "      <td>Shrek Forever After</td>\n",
       "      <td>P/DW</td>\n",
       "      <td>238700000.0</td>\n",
       "      <td>513900000</td>\n",
       "      <td>2010</td>\n",
       "    </tr>\n",
       "  </tbody>\n",
       "</table>\n",
       "</div>"
      ],
      "text/plain": [
       "                                         title studio  domestic_gross  \\\n",
       "0                                  Toy Story 3     BV     415000000.0   \n",
       "1                   Alice in Wonderland (2010)     BV     334200000.0   \n",
       "2  Harry Potter and the Deathly Hallows Part 1     WB     296000000.0   \n",
       "3                                    Inception     WB     292600000.0   \n",
       "4                          Shrek Forever After   P/DW     238700000.0   \n",
       "\n",
       "  foreign_gross  year  \n",
       "0     652000000  2010  \n",
       "1     691300000  2010  \n",
       "2     664300000  2010  \n",
       "3     535700000  2010  \n",
       "4     513900000  2010  "
      ]
     },
     "execution_count": 2,
     "metadata": {},
     "output_type": "execute_result"
    }
   ],
   "source": [
    "# importing bom.movie_gross csv\n",
    "moviedf = pd.read_csv(\"C:/Users/This PC/Documents/bom.movie_gross.csv\")\n",
    "moviedf.head()"
   ]
  },
  {
   "cell_type": "markdown",
   "metadata": {},
   "source": [
    "moviedf.info()"
   ]
  },
  {
   "cell_type": "code",
   "execution_count": 3,
   "metadata": {},
   "outputs": [
    {
     "name": "stdout",
     "output_type": "stream",
     "text": [
      "<class 'pandas.core.frame.DataFrame'>\n",
      "RangeIndex: 3387 entries, 0 to 3386\n",
      "Data columns (total 5 columns):\n",
      " #   Column          Non-Null Count  Dtype  \n",
      "---  ------          --------------  -----  \n",
      " 0   title           3387 non-null   object \n",
      " 1   studio          3382 non-null   object \n",
      " 2   domestic_gross  3359 non-null   float64\n",
      " 3   foreign_gross   2037 non-null   object \n",
      " 4   year            3387 non-null   int64  \n",
      "dtypes: float64(1), int64(1), object(3)\n",
      "memory usage: 132.4+ KB\n"
     ]
    }
   ],
   "source": [
    "moviedf.info()"
   ]
  },
  {
   "cell_type": "code",
   "execution_count": 4,
   "metadata": {},
   "outputs": [
    {
     "data": {
      "text/plain": [
       "Index(['title', 'studio', 'domestic_gross', 'foreign_gross', 'year'], dtype='object')"
      ]
     },
     "execution_count": 4,
     "metadata": {},
     "output_type": "execute_result"
    }
   ],
   "source": [
    "#cleaning column names for changes to take effect\n",
    "\n",
    "moviedf.columns = [col.strip() for col in moviedf.columns]\n",
    "moviedf.columns"
   ]
  },
  {
   "cell_type": "markdown",
   "metadata": {},
   "source": [
    "#### Cleaning the moviedf\n"
   ]
  },
  {
   "cell_type": "code",
   "execution_count": 5,
   "metadata": {},
   "outputs": [],
   "source": [
    "#The studio column on the moviedf is missing 5 values. I will not drop the rows because the dataset is small so I will replace the \n",
    "#missing values with 'unknown'\n",
    "moviedf['studio'].fillna('Unknown', inplace = True)"
   ]
  },
  {
   "cell_type": "code",
   "execution_count": 6,
   "metadata": {},
   "outputs": [
    {
     "data": {
      "text/plain": [
       "count    3.359000e+03\n",
       "mean     2.874585e+07\n",
       "std      6.698250e+07\n",
       "min      1.000000e+02\n",
       "25%      1.200000e+05\n",
       "50%      1.400000e+06\n",
       "75%      2.790000e+07\n",
       "max      9.367000e+08\n",
       "Name: domestic_gross, dtype: float64"
      ]
     },
     "execution_count": 6,
     "metadata": {},
     "output_type": "execute_result"
    }
   ],
   "source": [
    "# The domestic_gross column is missing 28 values. The minimum Value is 100 while the maximum is 936700000.\n",
    "# We cannot replace the null values with the mean because the mean will be affected by the outliers hence I replaced the \n",
    "#null values with the Zero assuming that some movies did not have a domestic gross\n",
    "moviedf['domestic_gross'].describe() "
   ]
  },
  {
   "cell_type": "code",
   "execution_count": 7,
   "metadata": {},
   "outputs": [],
   "source": [
    "moviedf['domestic_gross'].fillna(0, inplace = True )"
   ]
  },
  {
   "cell_type": "code",
   "execution_count": 8,
   "metadata": {},
   "outputs": [],
   "source": [
    "#The foreign gross column has over 1000 missing values. I opted to drop the column \n",
    "moviedf.drop(['foreign_gross'], axis = 1,inplace = True )"
   ]
  },
  {
   "cell_type": "code",
   "execution_count": 9,
   "metadata": {},
   "outputs": [
    {
     "name": "stdout",
     "output_type": "stream",
     "text": [
      "<class 'pandas.core.frame.DataFrame'>\n",
      "RangeIndex: 3387 entries, 0 to 3386\n",
      "Data columns (total 4 columns):\n",
      " #   Column          Non-Null Count  Dtype  \n",
      "---  ------          --------------  -----  \n",
      " 0   title           3387 non-null   object \n",
      " 1   studio          3387 non-null   object \n",
      " 2   domestic_gross  3387 non-null   float64\n",
      " 3   year            3387 non-null   int64  \n",
      "dtypes: float64(1), int64(1), object(2)\n",
      "memory usage: 106.0+ KB\n"
     ]
    }
   ],
   "source": [
    "moviedf.info()"
   ]
  },
  {
   "cell_type": "code",
   "execution_count": 10,
   "metadata": {
    "scrolled": true
   },
   "outputs": [
    {
     "data": {
      "text/html": [
       "<div>\n",
       "<style scoped>\n",
       "    .dataframe tbody tr th:only-of-type {\n",
       "        vertical-align: middle;\n",
       "    }\n",
       "\n",
       "    .dataframe tbody tr th {\n",
       "        vertical-align: top;\n",
       "    }\n",
       "\n",
       "    .dataframe thead th {\n",
       "        text-align: right;\n",
       "    }\n",
       "</style>\n",
       "<table border=\"1\" class=\"dataframe\">\n",
       "  <thead>\n",
       "    <tr style=\"text-align: right;\">\n",
       "      <th></th>\n",
       "      <th>tconst</th>\n",
       "      <th>primary_title</th>\n",
       "      <th>original_title</th>\n",
       "      <th>start_year</th>\n",
       "      <th>runtime_minutes</th>\n",
       "      <th>genres</th>\n",
       "    </tr>\n",
       "  </thead>\n",
       "  <tbody>\n",
       "    <tr>\n",
       "      <th>0</th>\n",
       "      <td>tt0063540</td>\n",
       "      <td>Sunghursh</td>\n",
       "      <td>Sunghursh</td>\n",
       "      <td>2013</td>\n",
       "      <td>175.0</td>\n",
       "      <td>Action,Crime,Drama</td>\n",
       "    </tr>\n",
       "    <tr>\n",
       "      <th>1</th>\n",
       "      <td>tt0066787</td>\n",
       "      <td>One Day Before the Rainy Season</td>\n",
       "      <td>Ashad Ka Ek Din</td>\n",
       "      <td>2019</td>\n",
       "      <td>114.0</td>\n",
       "      <td>Biography,Drama</td>\n",
       "    </tr>\n",
       "    <tr>\n",
       "      <th>2</th>\n",
       "      <td>tt0069049</td>\n",
       "      <td>The Other Side of the Wind</td>\n",
       "      <td>The Other Side of the Wind</td>\n",
       "      <td>2018</td>\n",
       "      <td>122.0</td>\n",
       "      <td>Drama</td>\n",
       "    </tr>\n",
       "    <tr>\n",
       "      <th>3</th>\n",
       "      <td>tt0069204</td>\n",
       "      <td>Sabse Bada Sukh</td>\n",
       "      <td>Sabse Bada Sukh</td>\n",
       "      <td>2018</td>\n",
       "      <td>NaN</td>\n",
       "      <td>Comedy,Drama</td>\n",
       "    </tr>\n",
       "    <tr>\n",
       "      <th>4</th>\n",
       "      <td>tt0100275</td>\n",
       "      <td>The Wandering Soap Opera</td>\n",
       "      <td>La Telenovela Errante</td>\n",
       "      <td>2017</td>\n",
       "      <td>80.0</td>\n",
       "      <td>Comedy,Drama,Fantasy</td>\n",
       "    </tr>\n",
       "    <tr>\n",
       "      <th>...</th>\n",
       "      <td>...</td>\n",
       "      <td>...</td>\n",
       "      <td>...</td>\n",
       "      <td>...</td>\n",
       "      <td>...</td>\n",
       "      <td>...</td>\n",
       "    </tr>\n",
       "    <tr>\n",
       "      <th>146139</th>\n",
       "      <td>tt9916538</td>\n",
       "      <td>Kuambil Lagi Hatiku</td>\n",
       "      <td>Kuambil Lagi Hatiku</td>\n",
       "      <td>2019</td>\n",
       "      <td>123.0</td>\n",
       "      <td>Drama</td>\n",
       "    </tr>\n",
       "    <tr>\n",
       "      <th>146140</th>\n",
       "      <td>tt9916622</td>\n",
       "      <td>Rodolpho Teóphilo - O Legado de um Pioneiro</td>\n",
       "      <td>Rodolpho Teóphilo - O Legado de um Pioneiro</td>\n",
       "      <td>2015</td>\n",
       "      <td>NaN</td>\n",
       "      <td>Documentary</td>\n",
       "    </tr>\n",
       "    <tr>\n",
       "      <th>146141</th>\n",
       "      <td>tt9916706</td>\n",
       "      <td>Dankyavar Danka</td>\n",
       "      <td>Dankyavar Danka</td>\n",
       "      <td>2013</td>\n",
       "      <td>NaN</td>\n",
       "      <td>Comedy</td>\n",
       "    </tr>\n",
       "    <tr>\n",
       "      <th>146142</th>\n",
       "      <td>tt9916730</td>\n",
       "      <td>6 Gunn</td>\n",
       "      <td>6 Gunn</td>\n",
       "      <td>2017</td>\n",
       "      <td>116.0</td>\n",
       "      <td>NaN</td>\n",
       "    </tr>\n",
       "    <tr>\n",
       "      <th>146143</th>\n",
       "      <td>tt9916754</td>\n",
       "      <td>Chico Albuquerque - Revelações</td>\n",
       "      <td>Chico Albuquerque - Revelações</td>\n",
       "      <td>2013</td>\n",
       "      <td>NaN</td>\n",
       "      <td>Documentary</td>\n",
       "    </tr>\n",
       "  </tbody>\n",
       "</table>\n",
       "<p>146144 rows × 6 columns</p>\n",
       "</div>"
      ],
      "text/plain": [
       "           tconst                                primary_title  \\\n",
       "0       tt0063540                                    Sunghursh   \n",
       "1       tt0066787              One Day Before the Rainy Season   \n",
       "2       tt0069049                   The Other Side of the Wind   \n",
       "3       tt0069204                              Sabse Bada Sukh   \n",
       "4       tt0100275                     The Wandering Soap Opera   \n",
       "...           ...                                          ...   \n",
       "146139  tt9916538                          Kuambil Lagi Hatiku   \n",
       "146140  tt9916622  Rodolpho Teóphilo - O Legado de um Pioneiro   \n",
       "146141  tt9916706                              Dankyavar Danka   \n",
       "146142  tt9916730                                       6 Gunn   \n",
       "146143  tt9916754               Chico Albuquerque - Revelações   \n",
       "\n",
       "                                     original_title  start_year  \\\n",
       "0                                         Sunghursh        2013   \n",
       "1                                   Ashad Ka Ek Din        2019   \n",
       "2                        The Other Side of the Wind        2018   \n",
       "3                                   Sabse Bada Sukh        2018   \n",
       "4                             La Telenovela Errante        2017   \n",
       "...                                             ...         ...   \n",
       "146139                          Kuambil Lagi Hatiku        2019   \n",
       "146140  Rodolpho Teóphilo - O Legado de um Pioneiro        2015   \n",
       "146141                              Dankyavar Danka        2013   \n",
       "146142                                       6 Gunn        2017   \n",
       "146143               Chico Albuquerque - Revelações        2013   \n",
       "\n",
       "        runtime_minutes                genres  \n",
       "0                 175.0    Action,Crime,Drama  \n",
       "1                 114.0       Biography,Drama  \n",
       "2                 122.0                 Drama  \n",
       "3                   NaN          Comedy,Drama  \n",
       "4                  80.0  Comedy,Drama,Fantasy  \n",
       "...                 ...                   ...  \n",
       "146139            123.0                 Drama  \n",
       "146140              NaN           Documentary  \n",
       "146141              NaN                Comedy  \n",
       "146142            116.0                   NaN  \n",
       "146143              NaN           Documentary  \n",
       "\n",
       "[146144 rows x 6 columns]"
      ]
     },
     "execution_count": 10,
     "metadata": {},
     "output_type": "execute_result"
    }
   ],
   "source": [
    "#importing title basics csv\n",
    "basicsdf = pd.read_csv(\"C:/Users/This PC/Documents/title.basics.csv\")\n",
    "basicsdf"
   ]
  },
  {
   "cell_type": "code",
   "execution_count": 11,
   "metadata": {},
   "outputs": [
    {
     "name": "stdout",
     "output_type": "stream",
     "text": [
      "<class 'pandas.core.frame.DataFrame'>\n",
      "RangeIndex: 146144 entries, 0 to 146143\n",
      "Data columns (total 6 columns):\n",
      " #   Column           Non-Null Count   Dtype  \n",
      "---  ------           --------------   -----  \n",
      " 0   tconst           146144 non-null  object \n",
      " 1   primary_title    146144 non-null  object \n",
      " 2   original_title   146123 non-null  object \n",
      " 3   start_year       146144 non-null  int64  \n",
      " 4   runtime_minutes  114405 non-null  float64\n",
      " 5   genres           140736 non-null  object \n",
      "dtypes: float64(1), int64(1), object(4)\n",
      "memory usage: 6.7+ MB\n"
     ]
    }
   ],
   "source": [
    "#getting description of the columns and identify null values\n",
    "basicsdf.info()"
   ]
  },
  {
   "cell_type": "markdown",
   "metadata": {},
   "source": [
    "#### Cleaning the basicsdf\n"
   ]
  },
  {
   "cell_type": "code",
   "execution_count": 12,
   "metadata": {},
   "outputs": [],
   "source": [
    "# From the basicsdf.info(), The original_title column is missing some values but since my analysis will not need this column I will drop it\n",
    "basicsdf.drop(['original_title'], axis = 1,inplace = True )"
   ]
  },
  {
   "cell_type": "code",
   "execution_count": 13,
   "metadata": {},
   "outputs": [
    {
     "data": {
      "text/plain": [
       "0         False\n",
       "1         False\n",
       "2         False\n",
       "3         False\n",
       "4         False\n",
       "          ...  \n",
       "146139    False\n",
       "146140    False\n",
       "146141    False\n",
       "146142    False\n",
       "146143    False\n",
       "Name: runtime_minutes, Length: 146144, dtype: bool"
      ]
     },
     "execution_count": 13,
     "metadata": {},
     "output_type": "execute_result"
    }
   ],
   "source": [
    "# The running_minutes also has some missing values. I replaced them with the average running time of the films since running time cannot be Zero\n",
    "basicsdf['runtime_minutes']==1"
   ]
  },
  {
   "cell_type": "code",
   "execution_count": 14,
   "metadata": {},
   "outputs": [],
   "source": [
    "# From the basicsdf.info(), genre columns has missing data which I will replace with 'unknown' because figuring out the movie genre is tough\n",
    "basicsdf['genres'].fillna('Unknown', inplace = True)"
   ]
  },
  {
   "cell_type": "code",
   "execution_count": 15,
   "metadata": {},
   "outputs": [
    {
     "name": "stdout",
     "output_type": "stream",
     "text": [
      "<class 'pandas.core.frame.DataFrame'>\n",
      "RangeIndex: 146144 entries, 0 to 146143\n",
      "Data columns (total 5 columns):\n",
      " #   Column           Non-Null Count   Dtype  \n",
      "---  ------           --------------   -----  \n",
      " 0   tconst           146144 non-null  object \n",
      " 1   primary_title    146144 non-null  object \n",
      " 2   start_year       146144 non-null  int64  \n",
      " 3   runtime_minutes  114405 non-null  float64\n",
      " 4   genres           146144 non-null  object \n",
      "dtypes: float64(1), int64(1), object(3)\n",
      "memory usage: 5.6+ MB\n"
     ]
    }
   ],
   "source": [
    "basicsdf.info()"
   ]
  },
  {
   "cell_type": "code",
   "execution_count": 16,
   "metadata": {},
   "outputs": [
    {
     "data": {
      "text/html": [
       "<div>\n",
       "<style scoped>\n",
       "    .dataframe tbody tr th:only-of-type {\n",
       "        vertical-align: middle;\n",
       "    }\n",
       "\n",
       "    .dataframe tbody tr th {\n",
       "        vertical-align: top;\n",
       "    }\n",
       "\n",
       "    .dataframe thead th {\n",
       "        text-align: right;\n",
       "    }\n",
       "</style>\n",
       "<table border=\"1\" class=\"dataframe\">\n",
       "  <thead>\n",
       "    <tr style=\"text-align: right;\">\n",
       "      <th></th>\n",
       "      <th>tconst</th>\n",
       "      <th>averagerating</th>\n",
       "      <th>numvotes</th>\n",
       "    </tr>\n",
       "  </thead>\n",
       "  <tbody>\n",
       "    <tr>\n",
       "      <th>0</th>\n",
       "      <td>tt10356526</td>\n",
       "      <td>8.3</td>\n",
       "      <td>31</td>\n",
       "    </tr>\n",
       "    <tr>\n",
       "      <th>1</th>\n",
       "      <td>tt10384606</td>\n",
       "      <td>8.9</td>\n",
       "      <td>559</td>\n",
       "    </tr>\n",
       "    <tr>\n",
       "      <th>2</th>\n",
       "      <td>tt1042974</td>\n",
       "      <td>6.4</td>\n",
       "      <td>20</td>\n",
       "    </tr>\n",
       "    <tr>\n",
       "      <th>3</th>\n",
       "      <td>tt1043726</td>\n",
       "      <td>4.2</td>\n",
       "      <td>50352</td>\n",
       "    </tr>\n",
       "    <tr>\n",
       "      <th>4</th>\n",
       "      <td>tt1060240</td>\n",
       "      <td>6.5</td>\n",
       "      <td>21</td>\n",
       "    </tr>\n",
       "  </tbody>\n",
       "</table>\n",
       "</div>"
      ],
      "text/plain": [
       "       tconst  averagerating  numvotes\n",
       "0  tt10356526            8.3        31\n",
       "1  tt10384606            8.9       559\n",
       "2   tt1042974            6.4        20\n",
       "3   tt1043726            4.2     50352\n",
       "4   tt1060240            6.5        21"
      ]
     },
     "execution_count": 16,
     "metadata": {},
     "output_type": "execute_result"
    }
   ],
   "source": [
    "# importing title ratings csv\n",
    "ratingsdf = pd.read_csv(\"C:/Users/This PC/Documents/title.ratings.csv\")\n",
    "ratingsdf.head()"
   ]
  },
  {
   "cell_type": "code",
   "execution_count": 17,
   "metadata": {},
   "outputs": [
    {
     "data": {
      "text/plain": [
       "Index(['tconst', 'averagerating', 'numvotes'], dtype='object')"
      ]
     },
     "execution_count": 17,
     "metadata": {},
     "output_type": "execute_result"
    }
   ],
   "source": [
    "#cleaning column names\n",
    "ratingsdf.columns = [col.strip() for col in ratingsdf.columns]\n",
    "ratingsdf.columns"
   ]
  },
  {
   "cell_type": "code",
   "execution_count": 18,
   "metadata": {},
   "outputs": [
    {
     "name": "stdout",
     "output_type": "stream",
     "text": [
      "<class 'pandas.core.frame.DataFrame'>\n",
      "RangeIndex: 73856 entries, 0 to 73855\n",
      "Data columns (total 3 columns):\n",
      " #   Column         Non-Null Count  Dtype  \n",
      "---  ------         --------------  -----  \n",
      " 0   tconst         73856 non-null  object \n",
      " 1   averagerating  73856 non-null  float64\n",
      " 2   numvotes       73856 non-null  int64  \n",
      "dtypes: float64(1), int64(1), object(1)\n",
      "memory usage: 1.7+ MB\n"
     ]
    }
   ],
   "source": [
    "ratingsdf.info()\n"
   ]
  },
  {
   "cell_type": "code",
   "execution_count": 19,
   "metadata": {},
   "outputs": [
    {
     "data": {
      "text/plain": [
       "Index(['tconst', 'primary_title', 'start_year', 'runtime_minutes', 'genres'], dtype='object')"
      ]
     },
     "execution_count": 19,
     "metadata": {},
     "output_type": "execute_result"
    }
   ],
   "source": [
    "basicsdf.columns"
   ]
  },
  {
   "cell_type": "code",
   "execution_count": 20,
   "metadata": {},
   "outputs": [
    {
     "data": {
      "text/plain": [
       "Index(['tconst', 'primary_title', 'start_year', 'runtime_minutes', 'genres'], dtype='object')"
      ]
     },
     "execution_count": 20,
     "metadata": {},
     "output_type": "execute_result"
    }
   ],
   "source": [
    "basicsdf.columns = [col.strip() for col in basicsdf.columns]\n",
    "basicsdf.columns"
   ]
  },
  {
   "cell_type": "code",
   "execution_count": 21,
   "metadata": {},
   "outputs": [
    {
     "data": {
      "text/html": [
       "<div>\n",
       "<style scoped>\n",
       "    .dataframe tbody tr th:only-of-type {\n",
       "        vertical-align: middle;\n",
       "    }\n",
       "\n",
       "    .dataframe tbody tr th {\n",
       "        vertical-align: top;\n",
       "    }\n",
       "\n",
       "    .dataframe thead th {\n",
       "        text-align: right;\n",
       "    }\n",
       "</style>\n",
       "<table border=\"1\" class=\"dataframe\">\n",
       "  <thead>\n",
       "    <tr style=\"text-align: right;\">\n",
       "      <th></th>\n",
       "      <th>tconst</th>\n",
       "      <th>primary_title</th>\n",
       "      <th>start_year</th>\n",
       "      <th>runtime_minutes</th>\n",
       "      <th>genres</th>\n",
       "    </tr>\n",
       "  </thead>\n",
       "  <tbody>\n",
       "    <tr>\n",
       "      <th>0</th>\n",
       "      <td>tt0063540</td>\n",
       "      <td>Sunghursh</td>\n",
       "      <td>2013</td>\n",
       "      <td>175.0</td>\n",
       "      <td>Action,Crime,Drama</td>\n",
       "    </tr>\n",
       "    <tr>\n",
       "      <th>1</th>\n",
       "      <td>tt0066787</td>\n",
       "      <td>One Day Before the Rainy Season</td>\n",
       "      <td>2019</td>\n",
       "      <td>114.0</td>\n",
       "      <td>Biography,Drama</td>\n",
       "    </tr>\n",
       "    <tr>\n",
       "      <th>2</th>\n",
       "      <td>tt0069049</td>\n",
       "      <td>The Other Side of the Wind</td>\n",
       "      <td>2018</td>\n",
       "      <td>122.0</td>\n",
       "      <td>Drama</td>\n",
       "    </tr>\n",
       "    <tr>\n",
       "      <th>3</th>\n",
       "      <td>tt0069204</td>\n",
       "      <td>Sabse Bada Sukh</td>\n",
       "      <td>2018</td>\n",
       "      <td>NaN</td>\n",
       "      <td>Comedy,Drama</td>\n",
       "    </tr>\n",
       "    <tr>\n",
       "      <th>4</th>\n",
       "      <td>tt0100275</td>\n",
       "      <td>The Wandering Soap Opera</td>\n",
       "      <td>2017</td>\n",
       "      <td>80.0</td>\n",
       "      <td>Comedy,Drama,Fantasy</td>\n",
       "    </tr>\n",
       "    <tr>\n",
       "      <th>...</th>\n",
       "      <td>...</td>\n",
       "      <td>...</td>\n",
       "      <td>...</td>\n",
       "      <td>...</td>\n",
       "      <td>...</td>\n",
       "    </tr>\n",
       "    <tr>\n",
       "      <th>146139</th>\n",
       "      <td>tt9916538</td>\n",
       "      <td>Kuambil Lagi Hatiku</td>\n",
       "      <td>2019</td>\n",
       "      <td>123.0</td>\n",
       "      <td>Drama</td>\n",
       "    </tr>\n",
       "    <tr>\n",
       "      <th>146140</th>\n",
       "      <td>tt9916622</td>\n",
       "      <td>Rodolpho Teóphilo - O Legado de um Pioneiro</td>\n",
       "      <td>2015</td>\n",
       "      <td>NaN</td>\n",
       "      <td>Documentary</td>\n",
       "    </tr>\n",
       "    <tr>\n",
       "      <th>146141</th>\n",
       "      <td>tt9916706</td>\n",
       "      <td>Dankyavar Danka</td>\n",
       "      <td>2013</td>\n",
       "      <td>NaN</td>\n",
       "      <td>Comedy</td>\n",
       "    </tr>\n",
       "    <tr>\n",
       "      <th>146142</th>\n",
       "      <td>tt9916730</td>\n",
       "      <td>6 Gunn</td>\n",
       "      <td>2017</td>\n",
       "      <td>116.0</td>\n",
       "      <td>Unknown</td>\n",
       "    </tr>\n",
       "    <tr>\n",
       "      <th>146143</th>\n",
       "      <td>tt9916754</td>\n",
       "      <td>Chico Albuquerque - Revelações</td>\n",
       "      <td>2013</td>\n",
       "      <td>NaN</td>\n",
       "      <td>Documentary</td>\n",
       "    </tr>\n",
       "  </tbody>\n",
       "</table>\n",
       "<p>146144 rows × 5 columns</p>\n",
       "</div>"
      ],
      "text/plain": [
       "           tconst                                primary_title  start_year  \\\n",
       "0       tt0063540                                    Sunghursh        2013   \n",
       "1       tt0066787              One Day Before the Rainy Season        2019   \n",
       "2       tt0069049                   The Other Side of the Wind        2018   \n",
       "3       tt0069204                              Sabse Bada Sukh        2018   \n",
       "4       tt0100275                     The Wandering Soap Opera        2017   \n",
       "...           ...                                          ...         ...   \n",
       "146139  tt9916538                          Kuambil Lagi Hatiku        2019   \n",
       "146140  tt9916622  Rodolpho Teóphilo - O Legado de um Pioneiro        2015   \n",
       "146141  tt9916706                              Dankyavar Danka        2013   \n",
       "146142  tt9916730                                       6 Gunn        2017   \n",
       "146143  tt9916754               Chico Albuquerque - Revelações        2013   \n",
       "\n",
       "        runtime_minutes                genres  \n",
       "0                 175.0    Action,Crime,Drama  \n",
       "1                 114.0       Biography,Drama  \n",
       "2                 122.0                 Drama  \n",
       "3                   NaN          Comedy,Drama  \n",
       "4                  80.0  Comedy,Drama,Fantasy  \n",
       "...                 ...                   ...  \n",
       "146139            123.0                 Drama  \n",
       "146140              NaN           Documentary  \n",
       "146141              NaN                Comedy  \n",
       "146142            116.0               Unknown  \n",
       "146143              NaN           Documentary  \n",
       "\n",
       "[146144 rows x 5 columns]"
      ]
     },
     "execution_count": 21,
     "metadata": {},
     "output_type": "execute_result"
    }
   ],
   "source": [
    "#changing column names from primary title to title\n",
    "#basicsdf.rename(columns={'primary_title' : 'title'}, inplace= True)\n",
    "#basicsdf\n",
    "basicsdf"
   ]
  },
  {
   "cell_type": "markdown",
   "metadata": {},
   "source": [
    "## Merging Datasets\n",
    "I first merged the ratings dataframe and basics dataframe on the primary key - tconst. I used the Outer Join"
   ]
  },
  {
   "cell_type": "code",
   "execution_count": 27,
   "metadata": {},
   "outputs": [
    {
     "data": {
      "text/html": [
       "<div>\n",
       "<style scoped>\n",
       "    .dataframe tbody tr th:only-of-type {\n",
       "        vertical-align: middle;\n",
       "    }\n",
       "\n",
       "    .dataframe tbody tr th {\n",
       "        vertical-align: top;\n",
       "    }\n",
       "\n",
       "    .dataframe thead th {\n",
       "        text-align: right;\n",
       "    }\n",
       "</style>\n",
       "<table border=\"1\" class=\"dataframe\">\n",
       "  <thead>\n",
       "    <tr style=\"text-align: right;\">\n",
       "      <th></th>\n",
       "      <th>tconst</th>\n",
       "      <th>primary_title</th>\n",
       "      <th>start_year</th>\n",
       "      <th>runtime_minutes</th>\n",
       "      <th>genres</th>\n",
       "      <th>averagerating</th>\n",
       "      <th>numvotes</th>\n",
       "    </tr>\n",
       "  </thead>\n",
       "  <tbody>\n",
       "    <tr>\n",
       "      <th>0</th>\n",
       "      <td>tt0063540</td>\n",
       "      <td>Sunghursh</td>\n",
       "      <td>2013</td>\n",
       "      <td>175.0</td>\n",
       "      <td>Action,Crime,Drama</td>\n",
       "      <td>7.0</td>\n",
       "      <td>77.0</td>\n",
       "    </tr>\n",
       "    <tr>\n",
       "      <th>1</th>\n",
       "      <td>tt0066787</td>\n",
       "      <td>One Day Before the Rainy Season</td>\n",
       "      <td>2019</td>\n",
       "      <td>114.0</td>\n",
       "      <td>Biography,Drama</td>\n",
       "      <td>7.2</td>\n",
       "      <td>43.0</td>\n",
       "    </tr>\n",
       "    <tr>\n",
       "      <th>2</th>\n",
       "      <td>tt0069049</td>\n",
       "      <td>The Other Side of the Wind</td>\n",
       "      <td>2018</td>\n",
       "      <td>122.0</td>\n",
       "      <td>Drama</td>\n",
       "      <td>6.9</td>\n",
       "      <td>4517.0</td>\n",
       "    </tr>\n",
       "    <tr>\n",
       "      <th>3</th>\n",
       "      <td>tt0069204</td>\n",
       "      <td>Sabse Bada Sukh</td>\n",
       "      <td>2018</td>\n",
       "      <td>NaN</td>\n",
       "      <td>Comedy,Drama</td>\n",
       "      <td>6.1</td>\n",
       "      <td>13.0</td>\n",
       "    </tr>\n",
       "    <tr>\n",
       "      <th>4</th>\n",
       "      <td>tt0100275</td>\n",
       "      <td>The Wandering Soap Opera</td>\n",
       "      <td>2017</td>\n",
       "      <td>80.0</td>\n",
       "      <td>Comedy,Drama,Fantasy</td>\n",
       "      <td>6.5</td>\n",
       "      <td>119.0</td>\n",
       "    </tr>\n",
       "  </tbody>\n",
       "</table>\n",
       "</div>"
      ],
      "text/plain": [
       "      tconst                    primary_title  start_year  runtime_minutes  \\\n",
       "0  tt0063540                        Sunghursh        2013            175.0   \n",
       "1  tt0066787  One Day Before the Rainy Season        2019            114.0   \n",
       "2  tt0069049       The Other Side of the Wind        2018            122.0   \n",
       "3  tt0069204                  Sabse Bada Sukh        2018              NaN   \n",
       "4  tt0100275         The Wandering Soap Opera        2017             80.0   \n",
       "\n",
       "                 genres  averagerating  numvotes  \n",
       "0    Action,Crime,Drama            7.0      77.0  \n",
       "1       Biography,Drama            7.2      43.0  \n",
       "2                 Drama            6.9    4517.0  \n",
       "3          Comedy,Drama            6.1      13.0  \n",
       "4  Comedy,Drama,Fantasy            6.5     119.0  "
      ]
     },
     "execution_count": 27,
     "metadata": {},
     "output_type": "execute_result"
    }
   ],
   "source": [
    "#merging ratings df and basics df on title\n",
    "title_df = pd.merge(basicsdf,ratingsdf, on = ['tconst'], how = 'outer')\n",
    "title_df. head()"
   ]
  },
  {
   "cell_type": "code",
   "execution_count": 23,
   "metadata": {},
   "outputs": [
    {
     "name": "stdout",
     "output_type": "stream",
     "text": [
      "<class 'pandas.core.frame.DataFrame'>\n",
      "Int64Index: 146144 entries, 0 to 146143\n",
      "Data columns (total 7 columns):\n",
      " #   Column           Non-Null Count   Dtype  \n",
      "---  ------           --------------   -----  \n",
      " 0   tconst           146144 non-null  object \n",
      " 1   primary_title    146144 non-null  object \n",
      " 2   start_year       146144 non-null  int64  \n",
      " 3   runtime_minutes  114405 non-null  float64\n",
      " 4   genres           146144 non-null  object \n",
      " 5   averagerating    73856 non-null   float64\n",
      " 6   numvotes         73856 non-null   float64\n",
      "dtypes: float64(3), int64(1), object(3)\n",
      "memory usage: 8.9+ MB\n"
     ]
    }
   ],
   "source": [
    "title_df.info()"
   ]
  },
  {
   "cell_type": "markdown",
   "metadata": {},
   "source": [
    "I then merged the title dataframe created above with the movies dataframe using the title and primary title . I used an Inner join so that I can get entries that were similar in both tables"
   ]
  },
  {
   "cell_type": "code",
   "execution_count": 30,
   "metadata": {},
   "outputs": [
    {
     "data": {
      "text/html": [
       "<div>\n",
       "<style scoped>\n",
       "    .dataframe tbody tr th:only-of-type {\n",
       "        vertical-align: middle;\n",
       "    }\n",
       "\n",
       "    .dataframe tbody tr th {\n",
       "        vertical-align: top;\n",
       "    }\n",
       "\n",
       "    .dataframe thead th {\n",
       "        text-align: right;\n",
       "    }\n",
       "</style>\n",
       "<table border=\"1\" class=\"dataframe\">\n",
       "  <thead>\n",
       "    <tr style=\"text-align: right;\">\n",
       "      <th></th>\n",
       "      <th>title</th>\n",
       "      <th>studio</th>\n",
       "      <th>domestic_gross</th>\n",
       "      <th>year</th>\n",
       "      <th>tconst</th>\n",
       "      <th>primary_title</th>\n",
       "      <th>start_year</th>\n",
       "      <th>runtime_minutes</th>\n",
       "      <th>genres</th>\n",
       "      <th>averagerating</th>\n",
       "      <th>numvotes</th>\n",
       "    </tr>\n",
       "  </thead>\n",
       "  <tbody>\n",
       "    <tr>\n",
       "      <th>0</th>\n",
       "      <td>Toy Story 3</td>\n",
       "      <td>BV</td>\n",
       "      <td>415000000.0</td>\n",
       "      <td>2010</td>\n",
       "      <td>tt0435761</td>\n",
       "      <td>Toy Story 3</td>\n",
       "      <td>2010</td>\n",
       "      <td>103.0</td>\n",
       "      <td>Adventure,Animation,Comedy</td>\n",
       "      <td>8.3</td>\n",
       "      <td>682218.0</td>\n",
       "    </tr>\n",
       "    <tr>\n",
       "      <th>1</th>\n",
       "      <td>Inception</td>\n",
       "      <td>WB</td>\n",
       "      <td>292600000.0</td>\n",
       "      <td>2010</td>\n",
       "      <td>tt1375666</td>\n",
       "      <td>Inception</td>\n",
       "      <td>2010</td>\n",
       "      <td>148.0</td>\n",
       "      <td>Action,Adventure,Sci-Fi</td>\n",
       "      <td>8.8</td>\n",
       "      <td>1841066.0</td>\n",
       "    </tr>\n",
       "    <tr>\n",
       "      <th>2</th>\n",
       "      <td>Shrek Forever After</td>\n",
       "      <td>P/DW</td>\n",
       "      <td>238700000.0</td>\n",
       "      <td>2010</td>\n",
       "      <td>tt0892791</td>\n",
       "      <td>Shrek Forever After</td>\n",
       "      <td>2010</td>\n",
       "      <td>93.0</td>\n",
       "      <td>Adventure,Animation,Comedy</td>\n",
       "      <td>6.3</td>\n",
       "      <td>167532.0</td>\n",
       "    </tr>\n",
       "    <tr>\n",
       "      <th>3</th>\n",
       "      <td>The Twilight Saga: Eclipse</td>\n",
       "      <td>Sum.</td>\n",
       "      <td>300500000.0</td>\n",
       "      <td>2010</td>\n",
       "      <td>tt1325004</td>\n",
       "      <td>The Twilight Saga: Eclipse</td>\n",
       "      <td>2010</td>\n",
       "      <td>124.0</td>\n",
       "      <td>Adventure,Drama,Fantasy</td>\n",
       "      <td>5.0</td>\n",
       "      <td>211733.0</td>\n",
       "    </tr>\n",
       "    <tr>\n",
       "      <th>4</th>\n",
       "      <td>Iron Man 2</td>\n",
       "      <td>Par.</td>\n",
       "      <td>312400000.0</td>\n",
       "      <td>2010</td>\n",
       "      <td>tt1228705</td>\n",
       "      <td>Iron Man 2</td>\n",
       "      <td>2010</td>\n",
       "      <td>124.0</td>\n",
       "      <td>Action,Adventure,Sci-Fi</td>\n",
       "      <td>7.0</td>\n",
       "      <td>657690.0</td>\n",
       "    </tr>\n",
       "    <tr>\n",
       "      <th>...</th>\n",
       "      <td>...</td>\n",
       "      <td>...</td>\n",
       "      <td>...</td>\n",
       "      <td>...</td>\n",
       "      <td>...</td>\n",
       "      <td>...</td>\n",
       "      <td>...</td>\n",
       "      <td>...</td>\n",
       "      <td>...</td>\n",
       "      <td>...</td>\n",
       "      <td>...</td>\n",
       "    </tr>\n",
       "    <tr>\n",
       "      <th>3361</th>\n",
       "      <td>Souvenir</td>\n",
       "      <td>Strand</td>\n",
       "      <td>11400.0</td>\n",
       "      <td>2018</td>\n",
       "      <td>tt2389092</td>\n",
       "      <td>Souvenir</td>\n",
       "      <td>2014</td>\n",
       "      <td>86.0</td>\n",
       "      <td>Comedy,Romance</td>\n",
       "      <td>5.9</td>\n",
       "      <td>9.0</td>\n",
       "    </tr>\n",
       "    <tr>\n",
       "      <th>3362</th>\n",
       "      <td>Souvenir</td>\n",
       "      <td>Strand</td>\n",
       "      <td>11400.0</td>\n",
       "      <td>2018</td>\n",
       "      <td>tt3478898</td>\n",
       "      <td>Souvenir</td>\n",
       "      <td>2014</td>\n",
       "      <td>86.0</td>\n",
       "      <td>Documentary</td>\n",
       "      <td>NaN</td>\n",
       "      <td>NaN</td>\n",
       "    </tr>\n",
       "    <tr>\n",
       "      <th>3363</th>\n",
       "      <td>Beauty and the Dogs</td>\n",
       "      <td>Osci.</td>\n",
       "      <td>8900.0</td>\n",
       "      <td>2018</td>\n",
       "      <td>tt6776572</td>\n",
       "      <td>Beauty and the Dogs</td>\n",
       "      <td>2017</td>\n",
       "      <td>100.0</td>\n",
       "      <td>Crime,Drama,Thriller</td>\n",
       "      <td>7.0</td>\n",
       "      <td>1016.0</td>\n",
       "    </tr>\n",
       "    <tr>\n",
       "      <th>3364</th>\n",
       "      <td>The Quake</td>\n",
       "      <td>Magn.</td>\n",
       "      <td>6200.0</td>\n",
       "      <td>2018</td>\n",
       "      <td>tt6523720</td>\n",
       "      <td>The Quake</td>\n",
       "      <td>2018</td>\n",
       "      <td>106.0</td>\n",
       "      <td>Action,Drama,Thriller</td>\n",
       "      <td>6.2</td>\n",
       "      <td>5270.0</td>\n",
       "    </tr>\n",
       "    <tr>\n",
       "      <th>3365</th>\n",
       "      <td>An Actor Prepares</td>\n",
       "      <td>Grav.</td>\n",
       "      <td>1700.0</td>\n",
       "      <td>2018</td>\n",
       "      <td>tt5718046</td>\n",
       "      <td>An Actor Prepares</td>\n",
       "      <td>2018</td>\n",
       "      <td>97.0</td>\n",
       "      <td>Comedy</td>\n",
       "      <td>5.0</td>\n",
       "      <td>388.0</td>\n",
       "    </tr>\n",
       "  </tbody>\n",
       "</table>\n",
       "<p>3366 rows × 11 columns</p>\n",
       "</div>"
      ],
      "text/plain": [
       "                           title  studio  domestic_gross  year     tconst  \\\n",
       "0                    Toy Story 3      BV     415000000.0  2010  tt0435761   \n",
       "1                      Inception      WB     292600000.0  2010  tt1375666   \n",
       "2            Shrek Forever After    P/DW     238700000.0  2010  tt0892791   \n",
       "3     The Twilight Saga: Eclipse    Sum.     300500000.0  2010  tt1325004   \n",
       "4                     Iron Man 2    Par.     312400000.0  2010  tt1228705   \n",
       "...                          ...     ...             ...   ...        ...   \n",
       "3361                    Souvenir  Strand         11400.0  2018  tt2389092   \n",
       "3362                    Souvenir  Strand         11400.0  2018  tt3478898   \n",
       "3363         Beauty and the Dogs   Osci.          8900.0  2018  tt6776572   \n",
       "3364                   The Quake   Magn.          6200.0  2018  tt6523720   \n",
       "3365           An Actor Prepares   Grav.          1700.0  2018  tt5718046   \n",
       "\n",
       "                   primary_title  start_year  runtime_minutes  \\\n",
       "0                    Toy Story 3        2010            103.0   \n",
       "1                      Inception        2010            148.0   \n",
       "2            Shrek Forever After        2010             93.0   \n",
       "3     The Twilight Saga: Eclipse        2010            124.0   \n",
       "4                     Iron Man 2        2010            124.0   \n",
       "...                          ...         ...              ...   \n",
       "3361                    Souvenir        2014             86.0   \n",
       "3362                    Souvenir        2014             86.0   \n",
       "3363         Beauty and the Dogs        2017            100.0   \n",
       "3364                   The Quake        2018            106.0   \n",
       "3365           An Actor Prepares        2018             97.0   \n",
       "\n",
       "                          genres  averagerating   numvotes  \n",
       "0     Adventure,Animation,Comedy            8.3   682218.0  \n",
       "1        Action,Adventure,Sci-Fi            8.8  1841066.0  \n",
       "2     Adventure,Animation,Comedy            6.3   167532.0  \n",
       "3        Adventure,Drama,Fantasy            5.0   211733.0  \n",
       "4        Action,Adventure,Sci-Fi            7.0   657690.0  \n",
       "...                          ...            ...        ...  \n",
       "3361              Comedy,Romance            5.9        9.0  \n",
       "3362                 Documentary            NaN        NaN  \n",
       "3363        Crime,Drama,Thriller            7.0     1016.0  \n",
       "3364       Action,Drama,Thriller            6.2     5270.0  \n",
       "3365                      Comedy            5.0      388.0  \n",
       "\n",
       "[3366 rows x 11 columns]"
      ]
     },
     "execution_count": 30,
     "metadata": {},
     "output_type": "execute_result"
    }
   ],
   "source": [
    "# merging the title_df(basicsdf,ratingsdf) with the movies_df\n",
    "Data = pd.merge(moviedf,title_df, left_on='title',right_on='primary_title', how='inner')\n",
    "Data"
   ]
  },
  {
   "cell_type": "code",
   "execution_count": 31,
   "metadata": {},
   "outputs": [
    {
     "name": "stdout",
     "output_type": "stream",
     "text": [
      "<class 'pandas.core.frame.DataFrame'>\n",
      "Int64Index: 3366 entries, 0 to 3365\n",
      "Data columns (total 11 columns):\n",
      " #   Column           Non-Null Count  Dtype  \n",
      "---  ------           --------------  -----  \n",
      " 0   title            3366 non-null   object \n",
      " 1   studio           3366 non-null   object \n",
      " 2   domestic_gross   3366 non-null   float64\n",
      " 3   year             3366 non-null   int64  \n",
      " 4   tconst           3366 non-null   object \n",
      " 5   primary_title    3366 non-null   object \n",
      " 6   start_year       3366 non-null   int64  \n",
      " 7   runtime_minutes  3198 non-null   float64\n",
      " 8   genres           3366 non-null   object \n",
      " 9   averagerating    3027 non-null   float64\n",
      " 10  numvotes         3027 non-null   float64\n",
      "dtypes: float64(4), int64(2), object(5)\n",
      "memory usage: 315.6+ KB\n"
     ]
    }
   ],
   "source": [
    "Data.info()"
   ]
  },
  {
   "cell_type": "markdown",
   "metadata": {},
   "source": [
    "# Data Cleaning\n",
    "Converting the columns domestic_gross, running_minutes and numvotes from float64 to integers\n",
    "\n",
    "Dealing with missing values\n"
   ]
  },
  {
   "cell_type": "markdown",
   "metadata": {},
   "source": [
    "## Dealing with missing values\n",
    "From Data.info() we see there are columns with missing values"
   ]
  },
  {
   "cell_type": "code",
   "execution_count": 32,
   "metadata": {},
   "outputs": [],
   "source": [
    "# dealing with missing values on the runtime_minutes column. I chose to fill the missing values with the average runtime of a movie \n",
    "Data['runtime_minutes'].fillna(Data['runtime_minutes'].mean(), inplace = True)"
   ]
  },
  {
   "cell_type": "code",
   "execution_count": 33,
   "metadata": {},
   "outputs": [],
   "source": [
    "# For averagerating and numvotes columns, I replaced the missing values with Zero assuming the the movies did not have any rating nor votes.\n",
    "Data['averagerating'].fillna(0, inplace = True)\n",
    "Data['numvotes'].fillna(0, inplace = True)"
   ]
  },
  {
   "cell_type": "code",
   "execution_count": 34,
   "metadata": {},
   "outputs": [
    {
     "data": {
      "text/plain": [
       "title               object\n",
       "studio              object\n",
       "domestic_gross     float64\n",
       "year                 int64\n",
       "tconst              object\n",
       "primary_title       object\n",
       "start_year           int64\n",
       "runtime_minutes    float64\n",
       "genres              object\n",
       "averagerating      float64\n",
       "numvotes           float64\n",
       "dtype: object"
      ]
     },
     "metadata": {},
     "output_type": "display_data"
    }
   ],
   "source": [
    "display(Data.dtypes)"
   ]
  },
  {
   "cell_type": "code",
   "execution_count": 35,
   "metadata": {},
   "outputs": [
    {
     "data": {
      "text/plain": [
       "title               object\n",
       "studio              object\n",
       "domestic_gross       int32\n",
       "year                 int64\n",
       "tconst              object\n",
       "primary_title       object\n",
       "start_year           int64\n",
       "runtime_minutes      int32\n",
       "genres              object\n",
       "averagerating      float64\n",
       "numvotes             int32\n",
       "dtype: object"
      ]
     },
     "metadata": {},
     "output_type": "display_data"
    }
   ],
   "source": [
    "#Converting the columns domestic_gross, running_minutes and numvotes from float64 to integers\n",
    "Data = Data.astype({\"domestic_gross\":'int',\"runtime_minutes\":'int',\"numvotes\":'int'})\n",
    "display(Data.dtypes)"
   ]
  },
  {
   "cell_type": "code",
   "execution_count": 36,
   "metadata": {},
   "outputs": [
    {
     "name": "stdout",
     "output_type": "stream",
     "text": [
      "<class 'pandas.core.frame.DataFrame'>\n",
      "Int64Index: 3366 entries, 0 to 3365\n",
      "Data columns (total 11 columns):\n",
      " #   Column           Non-Null Count  Dtype  \n",
      "---  ------           --------------  -----  \n",
      " 0   title            3366 non-null   object \n",
      " 1   studio           3366 non-null   object \n",
      " 2   domestic_gross   3366 non-null   int32  \n",
      " 3   year             3366 non-null   int64  \n",
      " 4   tconst           3366 non-null   object \n",
      " 5   primary_title    3366 non-null   object \n",
      " 6   start_year       3366 non-null   int64  \n",
      " 7   runtime_minutes  3366 non-null   int32  \n",
      " 8   genres           3366 non-null   object \n",
      " 9   averagerating    3366 non-null   float64\n",
      " 10  numvotes         3366 non-null   int32  \n",
      "dtypes: float64(1), int32(3), int64(2), object(5)\n",
      "memory usage: 276.1+ KB\n"
     ]
    }
   ],
   "source": [
    "Data.info()"
   ]
  },
  {
   "cell_type": "markdown",
   "metadata": {},
   "source": [
    "## Removing unwanted columns.\n",
    "The entries in the title column are similar to those on the primary_title column.\n",
    "I shall not use tconst in this analysis\n"
   ]
  },
  {
   "cell_type": "code",
   "execution_count": 37,
   "metadata": {},
   "outputs": [],
   "source": [
    "Data.drop(['primary_title','tconst' ], axis = 1,inplace = True )"
   ]
  },
  {
   "cell_type": "markdown",
   "metadata": {},
   "source": [
    "## Checking for duplicates"
   ]
  },
  {
   "cell_type": "code",
   "execution_count": 38,
   "metadata": {},
   "outputs": [
    {
     "data": {
      "text/plain": [
       "False    3365\n",
       "True        1\n",
       "dtype: int64"
      ]
     },
     "execution_count": 38,
     "metadata": {},
     "output_type": "execute_result"
    }
   ],
   "source": [
    "Data.duplicated().value_counts()"
   ]
  },
  {
   "cell_type": "code",
   "execution_count": 39,
   "metadata": {
    "scrolled": true
   },
   "outputs": [
    {
     "data": {
      "text/html": [
       "<div>\n",
       "<style scoped>\n",
       "    .dataframe tbody tr th:only-of-type {\n",
       "        vertical-align: middle;\n",
       "    }\n",
       "\n",
       "    .dataframe tbody tr th {\n",
       "        vertical-align: top;\n",
       "    }\n",
       "\n",
       "    .dataframe thead th {\n",
       "        text-align: right;\n",
       "    }\n",
       "</style>\n",
       "<table border=\"1\" class=\"dataframe\">\n",
       "  <thead>\n",
       "    <tr style=\"text-align: right;\">\n",
       "      <th></th>\n",
       "      <th>title</th>\n",
       "      <th>studio</th>\n",
       "      <th>domestic_gross</th>\n",
       "      <th>year</th>\n",
       "      <th>start_year</th>\n",
       "      <th>runtime_minutes</th>\n",
       "      <th>genres</th>\n",
       "      <th>averagerating</th>\n",
       "      <th>numvotes</th>\n",
       "    </tr>\n",
       "  </thead>\n",
       "  <tbody>\n",
       "    <tr>\n",
       "      <th>0</th>\n",
       "      <td>Toy Story 3</td>\n",
       "      <td>BV</td>\n",
       "      <td>415000000</td>\n",
       "      <td>2010</td>\n",
       "      <td>2010</td>\n",
       "      <td>103</td>\n",
       "      <td>Adventure,Animation,Comedy</td>\n",
       "      <td>8.3</td>\n",
       "      <td>682218</td>\n",
       "    </tr>\n",
       "    <tr>\n",
       "      <th>1</th>\n",
       "      <td>Inception</td>\n",
       "      <td>WB</td>\n",
       "      <td>292600000</td>\n",
       "      <td>2010</td>\n",
       "      <td>2010</td>\n",
       "      <td>148</td>\n",
       "      <td>Action,Adventure,Sci-Fi</td>\n",
       "      <td>8.8</td>\n",
       "      <td>1841066</td>\n",
       "    </tr>\n",
       "    <tr>\n",
       "      <th>2</th>\n",
       "      <td>Shrek Forever After</td>\n",
       "      <td>P/DW</td>\n",
       "      <td>238700000</td>\n",
       "      <td>2010</td>\n",
       "      <td>2010</td>\n",
       "      <td>93</td>\n",
       "      <td>Adventure,Animation,Comedy</td>\n",
       "      <td>6.3</td>\n",
       "      <td>167532</td>\n",
       "    </tr>\n",
       "    <tr>\n",
       "      <th>3</th>\n",
       "      <td>The Twilight Saga: Eclipse</td>\n",
       "      <td>Sum.</td>\n",
       "      <td>300500000</td>\n",
       "      <td>2010</td>\n",
       "      <td>2010</td>\n",
       "      <td>124</td>\n",
       "      <td>Adventure,Drama,Fantasy</td>\n",
       "      <td>5.0</td>\n",
       "      <td>211733</td>\n",
       "    </tr>\n",
       "    <tr>\n",
       "      <th>4</th>\n",
       "      <td>Iron Man 2</td>\n",
       "      <td>Par.</td>\n",
       "      <td>312400000</td>\n",
       "      <td>2010</td>\n",
       "      <td>2010</td>\n",
       "      <td>124</td>\n",
       "      <td>Action,Adventure,Sci-Fi</td>\n",
       "      <td>7.0</td>\n",
       "      <td>657690</td>\n",
       "    </tr>\n",
       "    <tr>\n",
       "      <th>...</th>\n",
       "      <td>...</td>\n",
       "      <td>...</td>\n",
       "      <td>...</td>\n",
       "      <td>...</td>\n",
       "      <td>...</td>\n",
       "      <td>...</td>\n",
       "      <td>...</td>\n",
       "      <td>...</td>\n",
       "      <td>...</td>\n",
       "    </tr>\n",
       "    <tr>\n",
       "      <th>3361</th>\n",
       "      <td>Souvenir</td>\n",
       "      <td>Strand</td>\n",
       "      <td>11400</td>\n",
       "      <td>2018</td>\n",
       "      <td>2014</td>\n",
       "      <td>86</td>\n",
       "      <td>Comedy,Romance</td>\n",
       "      <td>5.9</td>\n",
       "      <td>9</td>\n",
       "    </tr>\n",
       "    <tr>\n",
       "      <th>3362</th>\n",
       "      <td>Souvenir</td>\n",
       "      <td>Strand</td>\n",
       "      <td>11400</td>\n",
       "      <td>2018</td>\n",
       "      <td>2014</td>\n",
       "      <td>86</td>\n",
       "      <td>Documentary</td>\n",
       "      <td>0.0</td>\n",
       "      <td>0</td>\n",
       "    </tr>\n",
       "    <tr>\n",
       "      <th>3363</th>\n",
       "      <td>Beauty and the Dogs</td>\n",
       "      <td>Osci.</td>\n",
       "      <td>8900</td>\n",
       "      <td>2018</td>\n",
       "      <td>2017</td>\n",
       "      <td>100</td>\n",
       "      <td>Crime,Drama,Thriller</td>\n",
       "      <td>7.0</td>\n",
       "      <td>1016</td>\n",
       "    </tr>\n",
       "    <tr>\n",
       "      <th>3364</th>\n",
       "      <td>The Quake</td>\n",
       "      <td>Magn.</td>\n",
       "      <td>6200</td>\n",
       "      <td>2018</td>\n",
       "      <td>2018</td>\n",
       "      <td>106</td>\n",
       "      <td>Action,Drama,Thriller</td>\n",
       "      <td>6.2</td>\n",
       "      <td>5270</td>\n",
       "    </tr>\n",
       "    <tr>\n",
       "      <th>3365</th>\n",
       "      <td>An Actor Prepares</td>\n",
       "      <td>Grav.</td>\n",
       "      <td>1700</td>\n",
       "      <td>2018</td>\n",
       "      <td>2018</td>\n",
       "      <td>97</td>\n",
       "      <td>Comedy</td>\n",
       "      <td>5.0</td>\n",
       "      <td>388</td>\n",
       "    </tr>\n",
       "  </tbody>\n",
       "</table>\n",
       "<p>3365 rows × 9 columns</p>\n",
       "</div>"
      ],
      "text/plain": [
       "                           title  studio  domestic_gross  year  start_year  \\\n",
       "0                    Toy Story 3      BV       415000000  2010        2010   \n",
       "1                      Inception      WB       292600000  2010        2010   \n",
       "2            Shrek Forever After    P/DW       238700000  2010        2010   \n",
       "3     The Twilight Saga: Eclipse    Sum.       300500000  2010        2010   \n",
       "4                     Iron Man 2    Par.       312400000  2010        2010   \n",
       "...                          ...     ...             ...   ...         ...   \n",
       "3361                    Souvenir  Strand           11400  2018        2014   \n",
       "3362                    Souvenir  Strand           11400  2018        2014   \n",
       "3363         Beauty and the Dogs   Osci.            8900  2018        2017   \n",
       "3364                   The Quake   Magn.            6200  2018        2018   \n",
       "3365           An Actor Prepares   Grav.            1700  2018        2018   \n",
       "\n",
       "      runtime_minutes                      genres  averagerating  numvotes  \n",
       "0                 103  Adventure,Animation,Comedy            8.3    682218  \n",
       "1                 148     Action,Adventure,Sci-Fi            8.8   1841066  \n",
       "2                  93  Adventure,Animation,Comedy            6.3    167532  \n",
       "3                 124     Adventure,Drama,Fantasy            5.0    211733  \n",
       "4                 124     Action,Adventure,Sci-Fi            7.0    657690  \n",
       "...               ...                         ...            ...       ...  \n",
       "3361               86              Comedy,Romance            5.9         9  \n",
       "3362               86                 Documentary            0.0         0  \n",
       "3363              100        Crime,Drama,Thriller            7.0      1016  \n",
       "3364              106       Action,Drama,Thriller            6.2      5270  \n",
       "3365               97                      Comedy            5.0       388  \n",
       "\n",
       "[3365 rows x 9 columns]"
      ]
     },
     "execution_count": 39,
     "metadata": {},
     "output_type": "execute_result"
    }
   ],
   "source": [
    "fData = Data.drop_duplicates()\n",
    "fData"
   ]
  },
  {
   "cell_type": "code",
   "execution_count": 121,
   "metadata": {},
   "outputs": [
    {
     "data": {
      "text/plain": [
       "count    3365.000000\n",
       "mean     2013.956612\n",
       "std         2.530531\n",
       "min      2010.000000\n",
       "25%      2012.000000\n",
       "50%      2014.000000\n",
       "75%      2016.000000\n",
       "max      2020.000000\n",
       "Name: start_year, dtype: float64"
      ]
     },
     "execution_count": 121,
     "metadata": {},
     "output_type": "execute_result"
    }
   ],
   "source": [
    "fData['start_year'].describe()"
   ]
  },
  {
   "cell_type": "code",
   "execution_count": 40,
   "metadata": {},
   "outputs": [
    {
     "data": {
      "text/plain": [
       "0"
      ]
     },
     "execution_count": 40,
     "metadata": {},
     "output_type": "execute_result"
    }
   ],
   "source": [
    "fData.duplicated().sum()"
   ]
  },
  {
   "cell_type": "markdown",
   "metadata": {},
   "source": [
    "## Analysis"
   ]
  },
  {
   "cell_type": "markdown",
   "metadata": {},
   "source": [
    "### Frequency distribution of genres"
   ]
  },
  {
   "cell_type": "code",
   "execution_count": 130,
   "metadata": {},
   "outputs": [
    {
     "data": {
      "text/plain": [
       "Text(0.5, 1.0, 'Frequency distribution of genres')"
      ]
     },
     "execution_count": 130,
     "metadata": {},
     "output_type": "execute_result"
    },
    {
     "data": {
      "image/png": "[encoded data removed]",
      "text/plain": [
       "<Figure size 864x648 with 1 Axes>"
      ]
     },
     "metadata": {
      "needs_background": "light"
     },
     "output_type": "display_data"
    }
   ],
   "source": [
    "x = list(fData['genres'].value_counts()[:10].index)\n",
    "y = list(fData['genres'].value_counts()[:10].values)\n",
    "fig, ax = plt.subplots(figsize = (12, 9))\n",
    "ax.barh(x, y)\n",
    "ax.set_xlabel(\"frequency\",size = 20)\n",
    "ax.set_ylabel(\"genre\", size = 20)\n",
    "ax.set_title(\"Frequency distribution of genres\",size = 25 )"
   ]
  },
  {
   "cell_type": "markdown",
   "metadata": {},
   "source": [
    "## Correlation\n",
    "I want to find out whether there are two variables that are correlated using a heat map\n"
   ]
  },
  {
   "cell_type": "code",
   "execution_count": 46,
   "metadata": {},
   "outputs": [
    {
     "data": {
      "text/html": [
       "<div>\n",
       "<style scoped>\n",
       "    .dataframe tbody tr th:only-of-type {\n",
       "        vertical-align: middle;\n",
       "    }\n",
       "\n",
       "    .dataframe tbody tr th {\n",
       "        vertical-align: top;\n",
       "    }\n",
       "\n",
       "    .dataframe thead th {\n",
       "        text-align: right;\n",
       "    }\n",
       "</style>\n",
       "<table border=\"1\" class=\"dataframe\">\n",
       "  <thead>\n",
       "    <tr style=\"text-align: right;\">\n",
       "      <th></th>\n",
       "      <th>domestic_gross</th>\n",
       "      <th>year</th>\n",
       "      <th>start_year</th>\n",
       "      <th>runtime_minutes</th>\n",
       "      <th>averagerating</th>\n",
       "      <th>numvotes</th>\n",
       "    </tr>\n",
       "  </thead>\n",
       "  <tbody>\n",
       "    <tr>\n",
       "      <th>domestic_gross</th>\n",
       "      <td>1.000000</td>\n",
       "      <td>0.009848</td>\n",
       "      <td>0.021518</td>\n",
       "      <td>0.103791</td>\n",
       "      <td>0.082619</td>\n",
       "      <td>0.641548</td>\n",
       "    </tr>\n",
       "    <tr>\n",
       "      <th>year</th>\n",
       "      <td>0.009848</td>\n",
       "      <td>1.000000</td>\n",
       "      <td>0.695948</td>\n",
       "      <td>0.028845</td>\n",
       "      <td>0.037947</td>\n",
       "      <td>-0.110423</td>\n",
       "    </tr>\n",
       "    <tr>\n",
       "      <th>start_year</th>\n",
       "      <td>0.021518</td>\n",
       "      <td>0.695948</td>\n",
       "      <td>1.000000</td>\n",
       "      <td>0.017019</td>\n",
       "      <td>-0.185475</td>\n",
       "      <td>-0.102825</td>\n",
       "    </tr>\n",
       "    <tr>\n",
       "      <th>runtime_minutes</th>\n",
       "      <td>0.103791</td>\n",
       "      <td>0.028845</td>\n",
       "      <td>0.017019</td>\n",
       "      <td>1.000000</td>\n",
       "      <td>0.307462</td>\n",
       "      <td>0.245221</td>\n",
       "    </tr>\n",
       "    <tr>\n",
       "      <th>averagerating</th>\n",
       "      <td>0.082619</td>\n",
       "      <td>0.037947</td>\n",
       "      <td>-0.185475</td>\n",
       "      <td>0.307462</td>\n",
       "      <td>1.000000</td>\n",
       "      <td>0.259949</td>\n",
       "    </tr>\n",
       "    <tr>\n",
       "      <th>numvotes</th>\n",
       "      <td>0.641548</td>\n",
       "      <td>-0.110423</td>\n",
       "      <td>-0.102825</td>\n",
       "      <td>0.245221</td>\n",
       "      <td>0.259949</td>\n",
       "      <td>1.000000</td>\n",
       "    </tr>\n",
       "  </tbody>\n",
       "</table>\n",
       "</div>"
      ],
      "text/plain": [
       "                 domestic_gross      year  start_year  runtime_minutes  \\\n",
       "domestic_gross         1.000000  0.009848    0.021518         0.103791   \n",
       "year                   0.009848  1.000000    0.695948         0.028845   \n",
       "start_year             0.021518  0.695948    1.000000         0.017019   \n",
       "runtime_minutes        0.103791  0.028845    0.017019         1.000000   \n",
       "averagerating          0.082619  0.037947   -0.185475         0.307462   \n",
       "numvotes               0.641548 -0.110423   -0.102825         0.245221   \n",
       "\n",
       "                 averagerating  numvotes  \n",
       "domestic_gross        0.082619  0.641548  \n",
       "year                  0.037947 -0.110423  \n",
       "start_year           -0.185475 -0.102825  \n",
       "runtime_minutes       0.307462  0.245221  \n",
       "averagerating         1.000000  0.259949  \n",
       "numvotes              0.259949  1.000000  "
      ]
     },
     "execution_count": 46,
     "metadata": {},
     "output_type": "execute_result"
    }
   ],
   "source": [
    "fData.corr()"
   ]
  },
  {
   "cell_type": "code",
   "execution_count": 115,
   "metadata": {
    "scrolled": true
   },
   "outputs": [
    {
     "data": {
      "text/plain": [
       "<matplotlib.collections.PathCollection at 0x1439c676430>"
      ]
     },
     "execution_count": 115,
     "metadata": {},
     "output_type": "execute_result"
    },
    {
     "data": {
      "image/png": "[encoded data removed]",
      "text/plain": [
       "<Figure size 432x288 with 1 Axes>"
      ]
     },
     "metadata": {
      "needs_background": "light"
     },
     "output_type": "display_data"
    }
   ],
   "source": [
    "# correlation between numvotes and domestic_gross\n",
    "x = fData['numvotes']\n",
    "y = fData['domestic_gross']\n",
    "plt.scatter(x, y, c =\"blue\")\n"
   ]
  },
  {
   "cell_type": "markdown",
   "metadata": {},
   "source": [
    "### Genres vs number of votes"
   ]
  },
  {
   "cell_type": "code",
   "execution_count": 86,
   "metadata": {},
   "outputs": [],
   "source": [
    "#what movies by genres had the most number of votes (numvotes)\n",
    "data2 = fData.groupby([\"genres\"], sort = False).sum()\n"
   ]
  },
  {
   "cell_type": "code",
   "execution_count": 98,
   "metadata": {
    "scrolled": true
   },
   "outputs": [
    {
     "data": {
      "text/html": [
       "<div>\n",
       "<style scoped>\n",
       "    .dataframe tbody tr th:only-of-type {\n",
       "        vertical-align: middle;\n",
       "    }\n",
       "\n",
       "    .dataframe tbody tr th {\n",
       "        vertical-align: top;\n",
       "    }\n",
       "\n",
       "    .dataframe thead th {\n",
       "        text-align: right;\n",
       "    }\n",
       "</style>\n",
       "<table border=\"1\" class=\"dataframe\">\n",
       "  <thead>\n",
       "    <tr style=\"text-align: right;\">\n",
       "      <th></th>\n",
       "      <th>genres</th>\n",
       "      <th>domestic_gross</th>\n",
       "      <th>year</th>\n",
       "      <th>start_year</th>\n",
       "      <th>runtime_minutes</th>\n",
       "      <th>averagerating</th>\n",
       "      <th>numvotes</th>\n",
       "    </tr>\n",
       "  </thead>\n",
       "  <tbody>\n",
       "    <tr>\n",
       "      <th>0</th>\n",
       "      <td>Adventure,Animation,Comedy</td>\n",
       "      <td>9.645133e+09</td>\n",
       "      <td>151076</td>\n",
       "      <td>151065</td>\n",
       "      <td>7084</td>\n",
       "      <td>482.9</td>\n",
       "      <td>8037681</td>\n",
       "    </tr>\n",
       "    <tr>\n",
       "      <th>1</th>\n",
       "      <td>Action,Adventure,Sci-Fi</td>\n",
       "      <td>1.102470e+10</td>\n",
       "      <td>94662</td>\n",
       "      <td>94658</td>\n",
       "      <td>6139</td>\n",
       "      <td>318.5</td>\n",
       "      <td>19721992</td>\n",
       "    </tr>\n",
       "    <tr>\n",
       "      <th>2</th>\n",
       "      <td>Adventure,Drama,Fantasy</td>\n",
       "      <td>5.894000e+08</td>\n",
       "      <td>10067</td>\n",
       "      <td>10067</td>\n",
       "      <td>594</td>\n",
       "      <td>34.2</td>\n",
       "      <td>1273740</td>\n",
       "    </tr>\n",
       "    <tr>\n",
       "      <th>3</th>\n",
       "      <td>Animation,Comedy,Family</td>\n",
       "      <td>8.753285e+08</td>\n",
       "      <td>14097</td>\n",
       "      <td>14096</td>\n",
       "      <td>651</td>\n",
       "      <td>45.0</td>\n",
       "      <td>972073</td>\n",
       "    </tr>\n",
       "    <tr>\n",
       "      <th>4</th>\n",
       "      <td>Action,Adventure,Animation</td>\n",
       "      <td>2.184660e+09</td>\n",
       "      <td>44318</td>\n",
       "      <td>44311</td>\n",
       "      <td>2205</td>\n",
       "      <td>161.8</td>\n",
       "      <td>2749710</td>\n",
       "    </tr>\n",
       "    <tr>\n",
       "      <th>...</th>\n",
       "      <td>...</td>\n",
       "      <td>...</td>\n",
       "      <td>...</td>\n",
       "      <td>...</td>\n",
       "      <td>...</td>\n",
       "      <td>...</td>\n",
       "      <td>...</td>\n",
       "    </tr>\n",
       "    <tr>\n",
       "      <th>327</th>\n",
       "      <td>Comedy,Crime,Horror</td>\n",
       "      <td>2.040000e+04</td>\n",
       "      <td>2017</td>\n",
       "      <td>2016</td>\n",
       "      <td>89</td>\n",
       "      <td>6.5</td>\n",
       "      <td>22367</td>\n",
       "    </tr>\n",
       "    <tr>\n",
       "      <th>328</th>\n",
       "      <td>Adventure,Comedy,Horror</td>\n",
       "      <td>3.060000e+07</td>\n",
       "      <td>2018</td>\n",
       "      <td>2013</td>\n",
       "      <td>52</td>\n",
       "      <td>5.9</td>\n",
       "      <td>32</td>\n",
       "    </tr>\n",
       "    <tr>\n",
       "      <th>329</th>\n",
       "      <td>Comedy,Sport</td>\n",
       "      <td>4.250000e+07</td>\n",
       "      <td>2018</td>\n",
       "      <td>2018</td>\n",
       "      <td>103</td>\n",
       "      <td>5.7</td>\n",
       "      <td>9739</td>\n",
       "    </tr>\n",
       "    <tr>\n",
       "      <th>330</th>\n",
       "      <td>Documentary,History,War</td>\n",
       "      <td>1.811100e+07</td>\n",
       "      <td>4036</td>\n",
       "      <td>4036</td>\n",
       "      <td>188</td>\n",
       "      <td>16.0</td>\n",
       "      <td>15655</td>\n",
       "    </tr>\n",
       "    <tr>\n",
       "      <th>331</th>\n",
       "      <td>Documentary,Drama,Romance</td>\n",
       "      <td>1.080000e+05</td>\n",
       "      <td>2018</td>\n",
       "      <td>2013</td>\n",
       "      <td>45</td>\n",
       "      <td>7.2</td>\n",
       "      <td>5</td>\n",
       "    </tr>\n",
       "  </tbody>\n",
       "</table>\n",
       "<p>332 rows × 7 columns</p>\n",
       "</div>"
      ],
      "text/plain": [
       "                         genres  domestic_gross    year  start_year  \\\n",
       "0    Adventure,Animation,Comedy    9.645133e+09  151076      151065   \n",
       "1       Action,Adventure,Sci-Fi    1.102470e+10   94662       94658   \n",
       "2       Adventure,Drama,Fantasy    5.894000e+08   10067       10067   \n",
       "3       Animation,Comedy,Family    8.753285e+08   14097       14096   \n",
       "4    Action,Adventure,Animation    2.184660e+09   44318       44311   \n",
       "..                          ...             ...     ...         ...   \n",
       "327         Comedy,Crime,Horror    2.040000e+04    2017        2016   \n",
       "328     Adventure,Comedy,Horror    3.060000e+07    2018        2013   \n",
       "329                Comedy,Sport    4.250000e+07    2018        2018   \n",
       "330     Documentary,History,War    1.811100e+07    4036        4036   \n",
       "331   Documentary,Drama,Romance    1.080000e+05    2018        2013   \n",
       "\n",
       "     runtime_minutes  averagerating  numvotes  \n",
       "0               7084          482.9   8037681  \n",
       "1               6139          318.5  19721992  \n",
       "2                594           34.2   1273740  \n",
       "3                651           45.0    972073  \n",
       "4               2205          161.8   2749710  \n",
       "..               ...            ...       ...  \n",
       "327               89            6.5     22367  \n",
       "328               52            5.9        32  \n",
       "329              103            5.7      9739  \n",
       "330              188           16.0     15655  \n",
       "331               45            7.2         5  \n",
       "\n",
       "[332 rows x 7 columns]"
      ]
     },
     "execution_count": 98,
     "metadata": {},
     "output_type": "execute_result"
    }
   ],
   "source": [
    "data3 = data2.reset_index()\n",
    "data3"
   ]
  },
  {
   "cell_type": "code",
   "execution_count": 103,
   "metadata": {},
   "outputs": [
    {
     "data": {
      "text/html": [
       "<div>\n",
       "<style scoped>\n",
       "    .dataframe tbody tr th:only-of-type {\n",
       "        vertical-align: middle;\n",
       "    }\n",
       "\n",
       "    .dataframe tbody tr th {\n",
       "        vertical-align: top;\n",
       "    }\n",
       "\n",
       "    .dataframe thead th {\n",
       "        text-align: right;\n",
       "    }\n",
       "</style>\n",
       "<table border=\"1\" class=\"dataframe\">\n",
       "  <thead>\n",
       "    <tr style=\"text-align: right;\">\n",
       "      <th></th>\n",
       "      <th>genres</th>\n",
       "      <th>numvotes</th>\n",
       "    </tr>\n",
       "  </thead>\n",
       "  <tbody>\n",
       "    <tr>\n",
       "      <th>0</th>\n",
       "      <td>Adventure,Animation,Comedy</td>\n",
       "      <td>8037681</td>\n",
       "    </tr>\n",
       "    <tr>\n",
       "      <th>1</th>\n",
       "      <td>Action,Adventure,Sci-Fi</td>\n",
       "      <td>19721992</td>\n",
       "    </tr>\n",
       "    <tr>\n",
       "      <th>2</th>\n",
       "      <td>Adventure,Drama,Fantasy</td>\n",
       "      <td>1273740</td>\n",
       "    </tr>\n",
       "    <tr>\n",
       "      <th>3</th>\n",
       "      <td>Animation,Comedy,Family</td>\n",
       "      <td>972073</td>\n",
       "    </tr>\n",
       "    <tr>\n",
       "      <th>4</th>\n",
       "      <td>Action,Adventure,Animation</td>\n",
       "      <td>2749710</td>\n",
       "    </tr>\n",
       "    <tr>\n",
       "      <th>...</th>\n",
       "      <td>...</td>\n",
       "      <td>...</td>\n",
       "    </tr>\n",
       "    <tr>\n",
       "      <th>327</th>\n",
       "      <td>Comedy,Crime,Horror</td>\n",
       "      <td>22367</td>\n",
       "    </tr>\n",
       "    <tr>\n",
       "      <th>328</th>\n",
       "      <td>Adventure,Comedy,Horror</td>\n",
       "      <td>32</td>\n",
       "    </tr>\n",
       "    <tr>\n",
       "      <th>329</th>\n",
       "      <td>Comedy,Sport</td>\n",
       "      <td>9739</td>\n",
       "    </tr>\n",
       "    <tr>\n",
       "      <th>330</th>\n",
       "      <td>Documentary,History,War</td>\n",
       "      <td>15655</td>\n",
       "    </tr>\n",
       "    <tr>\n",
       "      <th>331</th>\n",
       "      <td>Documentary,Drama,Romance</td>\n",
       "      <td>5</td>\n",
       "    </tr>\n",
       "  </tbody>\n",
       "</table>\n",
       "<p>332 rows × 2 columns</p>\n",
       "</div>"
      ],
      "text/plain": [
       "                         genres  numvotes\n",
       "0    Adventure,Animation,Comedy   8037681\n",
       "1       Action,Adventure,Sci-Fi  19721992\n",
       "2       Adventure,Drama,Fantasy   1273740\n",
       "3       Animation,Comedy,Family    972073\n",
       "4    Action,Adventure,Animation   2749710\n",
       "..                          ...       ...\n",
       "327         Comedy,Crime,Horror     22367\n",
       "328     Adventure,Comedy,Horror        32\n",
       "329                Comedy,Sport      9739\n",
       "330     Documentary,History,War     15655\n",
       "331   Documentary,Drama,Romance         5\n",
       "\n",
       "[332 rows x 2 columns]"
      ]
     },
     "execution_count": 103,
     "metadata": {},
     "output_type": "execute_result"
    }
   ],
   "source": [
    "data4 = data3[[\"genres\",\"numvotes\"]]\n",
    "data4"
   ]
  },
  {
   "cell_type": "code",
   "execution_count": 110,
   "metadata": {},
   "outputs": [
    {
     "data": {
      "text/html": [
       "<div>\n",
       "<style scoped>\n",
       "    .dataframe tbody tr th:only-of-type {\n",
       "        vertical-align: middle;\n",
       "    }\n",
       "\n",
       "    .dataframe tbody tr th {\n",
       "        vertical-align: top;\n",
       "    }\n",
       "\n",
       "    .dataframe thead th {\n",
       "        text-align: right;\n",
       "    }\n",
       "</style>\n",
       "<table border=\"1\" class=\"dataframe\">\n",
       "  <thead>\n",
       "    <tr style=\"text-align: right;\">\n",
       "      <th></th>\n",
       "      <th>genres</th>\n",
       "      <th>numvotes</th>\n",
       "    </tr>\n",
       "  </thead>\n",
       "  <tbody>\n",
       "    <tr>\n",
       "      <th>1</th>\n",
       "      <td>Action,Adventure,Sci-Fi</td>\n",
       "      <td>19721992</td>\n",
       "    </tr>\n",
       "    <tr>\n",
       "      <th>0</th>\n",
       "      <td>Adventure,Animation,Comedy</td>\n",
       "      <td>8037681</td>\n",
       "    </tr>\n",
       "    <tr>\n",
       "      <th>8</th>\n",
       "      <td>Action,Adventure,Fantasy</td>\n",
       "      <td>7763568</td>\n",
       "    </tr>\n",
       "    <tr>\n",
       "      <th>21</th>\n",
       "      <td>Comedy,Drama,Romance</td>\n",
       "      <td>5871460</td>\n",
       "    </tr>\n",
       "    <tr>\n",
       "      <th>117</th>\n",
       "      <td>Action,Adventure,Comedy</td>\n",
       "      <td>5800318</td>\n",
       "    </tr>\n",
       "    <tr>\n",
       "      <th>31</th>\n",
       "      <td>Drama</td>\n",
       "      <td>4724607</td>\n",
       "    </tr>\n",
       "    <tr>\n",
       "      <th>48</th>\n",
       "      <td>Action,Crime,Drama</td>\n",
       "      <td>3970171</td>\n",
       "    </tr>\n",
       "    <tr>\n",
       "      <th>22</th>\n",
       "      <td>Comedy</td>\n",
       "      <td>3881229</td>\n",
       "    </tr>\n",
       "    <tr>\n",
       "      <th>11</th>\n",
       "      <td>Action,Adventure,Drama</td>\n",
       "      <td>3856948</td>\n",
       "    </tr>\n",
       "    <tr>\n",
       "      <th>58</th>\n",
       "      <td>Action,Crime,Thriller</td>\n",
       "      <td>3806910</td>\n",
       "    </tr>\n",
       "  </tbody>\n",
       "</table>\n",
       "</div>"
      ],
      "text/plain": [
       "                         genres  numvotes\n",
       "1       Action,Adventure,Sci-Fi  19721992\n",
       "0    Adventure,Animation,Comedy   8037681\n",
       "8      Action,Adventure,Fantasy   7763568\n",
       "21         Comedy,Drama,Romance   5871460\n",
       "117     Action,Adventure,Comedy   5800318\n",
       "31                        Drama   4724607\n",
       "48           Action,Crime,Drama   3970171\n",
       "22                       Comedy   3881229\n",
       "11       Action,Adventure,Drama   3856948\n",
       "58        Action,Crime,Thriller   3806910"
      ]
     },
     "execution_count": 110,
     "metadata": {},
     "output_type": "execute_result"
    }
   ],
   "source": [
    "#sorting from largest to smallest\n",
    "data5 = data4.sort_values(\"numvotes\", ascending = False)[:10]\n",
    "data5"
   ]
  },
  {
   "cell_type": "code",
   "execution_count": 134,
   "metadata": {},
   "outputs": [
    {
     "data": {
      "text/plain": [
       "Text(0.5, 1.0, 'Total number of votes per genre')"
      ]
     },
     "execution_count": 134,
     "metadata": {},
     "output_type": "execute_result"
    },
    {
     "data": {
      "image/png": "[encoded data removed]",
      "text/plain": [
       "<Figure size 720x576 with 1 Axes>"
      ]
     },
     "metadata": {
      "needs_background": "light"
     },
     "output_type": "display_data"
    }
   ],
   "source": [
    "# Top 10 genres with the most numvotes\n",
    "x = data5['genres']\n",
    "y = data5[\"numvotes\"]\n",
    "fig, ax = plt.subplots(figsize = (10, 8))\n",
    "ax.barh(x,y)\n",
    "ax.set_xlabel(\"numvotes\",size = 20)\n",
    "ax.set_ylabel(\"genre\", size = 20)\n",
    "ax.set_title(\"Total number of votes per genre\",size = 25 )"
   ]
  },
  {
   "cell_type": "markdown",
   "metadata": {},
   "source": [
    "## Genres vs ratings\n"
   ]
  },
  {
   "cell_type": "code",
   "execution_count": 136,
   "metadata": {},
   "outputs": [
    {
     "data": {
      "text/html": [
       "<div>\n",
       "<style scoped>\n",
       "    .dataframe tbody tr th:only-of-type {\n",
       "        vertical-align: middle;\n",
       "    }\n",
       "\n",
       "    .dataframe tbody tr th {\n",
       "        vertical-align: top;\n",
       "    }\n",
       "\n",
       "    .dataframe thead th {\n",
       "        text-align: right;\n",
       "    }\n",
       "</style>\n",
       "<table border=\"1\" class=\"dataframe\">\n",
       "  <thead>\n",
       "    <tr style=\"text-align: right;\">\n",
       "      <th></th>\n",
       "      <th>genres</th>\n",
       "      <th>averagerating</th>\n",
       "    </tr>\n",
       "  </thead>\n",
       "  <tbody>\n",
       "    <tr>\n",
       "      <th>0</th>\n",
       "      <td>Adventure,Animation,Comedy</td>\n",
       "      <td>482.9</td>\n",
       "    </tr>\n",
       "    <tr>\n",
       "      <th>1</th>\n",
       "      <td>Action,Adventure,Sci-Fi</td>\n",
       "      <td>318.5</td>\n",
       "    </tr>\n",
       "    <tr>\n",
       "      <th>2</th>\n",
       "      <td>Adventure,Drama,Fantasy</td>\n",
       "      <td>34.2</td>\n",
       "    </tr>\n",
       "    <tr>\n",
       "      <th>3</th>\n",
       "      <td>Animation,Comedy,Family</td>\n",
       "      <td>45.0</td>\n",
       "    </tr>\n",
       "    <tr>\n",
       "      <th>4</th>\n",
       "      <td>Action,Adventure,Animation</td>\n",
       "      <td>161.8</td>\n",
       "    </tr>\n",
       "    <tr>\n",
       "      <th>...</th>\n",
       "      <td>...</td>\n",
       "      <td>...</td>\n",
       "    </tr>\n",
       "    <tr>\n",
       "      <th>327</th>\n",
       "      <td>Comedy,Crime,Horror</td>\n",
       "      <td>6.5</td>\n",
       "    </tr>\n",
       "    <tr>\n",
       "      <th>328</th>\n",
       "      <td>Adventure,Comedy,Horror</td>\n",
       "      <td>5.9</td>\n",
       "    </tr>\n",
       "    <tr>\n",
       "      <th>329</th>\n",
       "      <td>Comedy,Sport</td>\n",
       "      <td>5.7</td>\n",
       "    </tr>\n",
       "    <tr>\n",
       "      <th>330</th>\n",
       "      <td>Documentary,History,War</td>\n",
       "      <td>16.0</td>\n",
       "    </tr>\n",
       "    <tr>\n",
       "      <th>331</th>\n",
       "      <td>Documentary,Drama,Romance</td>\n",
       "      <td>7.2</td>\n",
       "    </tr>\n",
       "  </tbody>\n",
       "</table>\n",
       "<p>332 rows × 2 columns</p>\n",
       "</div>"
      ],
      "text/plain": [
       "                         genres  averagerating\n",
       "0    Adventure,Animation,Comedy          482.9\n",
       "1       Action,Adventure,Sci-Fi          318.5\n",
       "2       Adventure,Drama,Fantasy           34.2\n",
       "3       Animation,Comedy,Family           45.0\n",
       "4    Action,Adventure,Animation          161.8\n",
       "..                          ...            ...\n",
       "327         Comedy,Crime,Horror            6.5\n",
       "328     Adventure,Comedy,Horror            5.9\n",
       "329                Comedy,Sport            5.7\n",
       "330     Documentary,History,War           16.0\n",
       "331   Documentary,Drama,Romance            7.2\n",
       "\n",
       "[332 rows x 2 columns]"
      ]
     },
     "execution_count": 136,
     "metadata": {},
     "output_type": "execute_result"
    }
   ],
   "source": [
    "dataratings = data3[[\"genres\",\"averagerating\"]]\n",
    "dataratings"
   ]
  },
  {
   "cell_type": "code",
   "execution_count": 137,
   "metadata": {},
   "outputs": [
    {
     "data": {
      "text/html": [
       "<div>\n",
       "<style scoped>\n",
       "    .dataframe tbody tr th:only-of-type {\n",
       "        vertical-align: middle;\n",
       "    }\n",
       "\n",
       "    .dataframe tbody tr th {\n",
       "        vertical-align: top;\n",
       "    }\n",
       "\n",
       "    .dataframe thead th {\n",
       "        text-align: right;\n",
       "    }\n",
       "</style>\n",
       "<table border=\"1\" class=\"dataframe\">\n",
       "  <thead>\n",
       "    <tr style=\"text-align: right;\">\n",
       "      <th></th>\n",
       "      <th>genres</th>\n",
       "      <th>averagerating</th>\n",
       "    </tr>\n",
       "  </thead>\n",
       "  <tbody>\n",
       "    <tr>\n",
       "      <th>31</th>\n",
       "      <td>Drama</td>\n",
       "      <td>2115.3</td>\n",
       "    </tr>\n",
       "    <tr>\n",
       "      <th>73</th>\n",
       "      <td>Comedy,Drama</td>\n",
       "      <td>876.3</td>\n",
       "    </tr>\n",
       "    <tr>\n",
       "      <th>21</th>\n",
       "      <td>Comedy,Drama,Romance</td>\n",
       "      <td>838.2</td>\n",
       "    </tr>\n",
       "    <tr>\n",
       "      <th>36</th>\n",
       "      <td>Documentary</td>\n",
       "      <td>793.6</td>\n",
       "    </tr>\n",
       "    <tr>\n",
       "      <th>27</th>\n",
       "      <td>Drama,Romance</td>\n",
       "      <td>743.8</td>\n",
       "    </tr>\n",
       "    <tr>\n",
       "      <th>22</th>\n",
       "      <td>Comedy</td>\n",
       "      <td>550.4</td>\n",
       "    </tr>\n",
       "    <tr>\n",
       "      <th>0</th>\n",
       "      <td>Adventure,Animation,Comedy</td>\n",
       "      <td>482.9</td>\n",
       "    </tr>\n",
       "    <tr>\n",
       "      <th>17</th>\n",
       "      <td>Comedy,Romance</td>\n",
       "      <td>437.8</td>\n",
       "    </tr>\n",
       "    <tr>\n",
       "      <th>9</th>\n",
       "      <td>Drama,Thriller</td>\n",
       "      <td>348.0</td>\n",
       "    </tr>\n",
       "    <tr>\n",
       "      <th>1</th>\n",
       "      <td>Action,Adventure,Sci-Fi</td>\n",
       "      <td>318.5</td>\n",
       "    </tr>\n",
       "  </tbody>\n",
       "</table>\n",
       "</div>"
      ],
      "text/plain": [
       "                        genres  averagerating\n",
       "31                       Drama         2115.3\n",
       "73                Comedy,Drama          876.3\n",
       "21        Comedy,Drama,Romance          838.2\n",
       "36                 Documentary          793.6\n",
       "27               Drama,Romance          743.8\n",
       "22                      Comedy          550.4\n",
       "0   Adventure,Animation,Comedy          482.9\n",
       "17              Comedy,Romance          437.8\n",
       "9               Drama,Thriller          348.0\n",
       "1      Action,Adventure,Sci-Fi          318.5"
      ]
     },
     "execution_count": 137,
     "metadata": {},
     "output_type": "execute_result"
    }
   ],
   "source": [
    "#sorting from largest to smallest\n",
    "datar = dataratings.sort_values(\"averagerating\", ascending = False)[:10]\n",
    "datar"
   ]
  },
  {
   "cell_type": "code",
   "execution_count": 141,
   "metadata": {},
   "outputs": [
    {
     "data": {
      "text/plain": [
       "Text(0.5, 1.0, 'Total averagerating per genre')"
      ]
     },
     "execution_count": 141,
     "metadata": {},
     "output_type": "execute_result"
    },
    {
     "data": {
      "image/png": "[encoded data removed]",
      "text/plain": [
       "<Figure size 720x576 with 1 Axes>"
      ]
     },
     "metadata": {
      "needs_background": "light"
     },
     "output_type": "display_data"
    }
   ],
   "source": [
    "# Top 10 genres with the most ratings\n",
    "x = datar[\"genres\"]\n",
    "y = datar['averagerating']\n",
    "fig, ax = plt.subplots(figsize = (10, 8))\n",
    "ax.barh(x,y)\n",
    "ax.set_xlabel(\"averagerating\",size = 20)\n",
    "ax.set_ylabel(\"genre\", size = 20)\n",
    "ax.set_title(\"Total averagerating per genre\",size = 25 )"
   ]
  },
  {
   "cell_type": "markdown",
   "metadata": {},
   "source": [
    "# Conclusions\n",
    "This analysis leads to three recommendations for the head of  Microsoft \n",
    "1) To produce Drama movies. \n",
    "Most movies from the data set are Drama. They are cheap to produce hence most studios prefer Drama to any other Genre. Genres such as Action and Thrillers may be expensive to produce because of their destructive nature.\n",
    "\n",
    "2) You might consider producing Action, Adventure and Sci-Fi.\n",
    "This genre has high number of votes which is positively correlated to the domestic gross income.\n",
    "\n",
    "3) To produce Documentaries.\n",
    "Documentaries are also many in the dataset, second from Drama.\n",
    "Due to the nature of Documentaries, their production is relatively cheaper hence Microsoft will not have to spend a lumpsum of money at once on a studio. You can start off with documentaries then gradually grow the studio.  "
   ]
  }
 ],
 "metadata": {
  "kernelspec": {
   "display_name": "Python 3 (ipykernel)",
   "language": "python",
   "name": "python3"
  },
  "language_info": {
   "codemirror_mode": {
    "name": "ipython",
    "version": 3
   },
   "file_extension": ".py",
   "mimetype": "text/x-python",
   "name": "python",
   "nbconvert_exporter": "python",
   "pygments_lexer": "ipython3",
   "version": "3.9.12"
  }
 },
 "nbformat": 4,
 "nbformat_minor": 2
}
